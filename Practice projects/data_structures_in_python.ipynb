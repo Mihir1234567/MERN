{
 "cells": [
  {
   "cell_type": "markdown",
   "metadata": {},
   "source": [
    "Lists\n"
   ]
  },
  {
   "cell_type": "code",
   "execution_count": 1,
   "metadata": {},
   "outputs": [
    {
     "name": "stdout",
     "output_type": "stream",
     "text": [
      "['apple', 'banana', 'orange', 'coconut']\n",
      "4\n",
      "True\n"
     ]
    }
   ],
   "source": [
    "fruits = [\"apple\",\"banana\",\"orange\",\"coconut\"]\n",
    "print(fruits)\n",
    "print(len(fruits)) #PRINTS LENGTH OF THE LIST\n",
    "print(\"apple\" in fruits)# CHECKS IF THE ITEM IS IN THE LIST OR NOT"
   ]
  },
  {
   "cell_type": "code",
   "execution_count": 2,
   "metadata": {},
   "outputs": [
    {
     "name": "stdout",
     "output_type": "stream",
     "text": [
      "0\n",
      "['apple', 'banana', 'orange', 'coconut']\n"
     ]
    }
   ],
   "source": [
    "# fruits.append(\"pineapple\")\n",
    "# fruits.remove(\"apple\")\n",
    "# fruits.insert(0,\"apple\")\n",
    "# fruits.sort()\n",
    "# fruits.reverse()\n",
    "# print(fruits.index(\"apple\"))\n",
    "print(fruits.count(\"pineapple\"))\n",
    "print(fruits)"
   ]
  },
  {
   "cell_type": "code",
   "execution_count": 3,
   "metadata": {},
   "outputs": [
    {
     "name": "stdout",
     "output_type": "stream",
     "text": [
      "orange\n",
      "coconut\n"
     ]
    }
   ],
   "source": [
    "print(fruits[2]) #PRINT USING INDEX\n",
    "print(fruits[-1])#PRINT USING NEGATIVE INDEX"
   ]
  },
  {
   "cell_type": "code",
   "execution_count": 4,
   "metadata": {},
   "outputs": [
    {
     "name": "stdout",
     "output_type": "stream",
     "text": [
      "['apple', 'banana']\n",
      "['banana', 'orange']\n",
      "['apple', 'orange']\n",
      "['banana', 'coconut']\n"
     ]
    }
   ],
   "source": [
    "print(fruits[:2])#PRINT USING SLICING (PRINT EVERY ELEMENT BEFORE INDEX 2)\n",
    "print(fruits[1:3])#PRINTS FROM INDEX 1 TO \"BEFORE INDEX 3\"\n",
    "print(fruits[::2])#PRINTS EVERY SECOND ELEINT\n",
    "print(fruits[1::2])#PRINTS EVERY SECOND ELEMENT FROM INDEX 1"
   ]
  },
  {
   "cell_type": "code",
   "execution_count": 5,
   "metadata": {},
   "outputs": [
    {
     "name": "stdout",
     "output_type": "stream",
     "text": [
      "apple\n",
      "banana\n",
      "orange\n",
      "coconut\n"
     ]
    }
   ],
   "source": [
    "#ITERATING USING LOOPS\n",
    "for fruit in fruits:\n",
    "    print(fruit)"
   ]
  },
  {
   "cell_type": "markdown",
   "metadata": {},
   "source": [
    "SETS\n"
   ]
  },
  {
   "cell_type": "code",
   "execution_count": 6,
   "metadata": {},
   "outputs": [
    {
     "name": "stdout",
     "output_type": "stream",
     "text": [
      "{'KIA', 'MARUTI', 'TATA', 'MG'}\n"
     ]
    }
   ],
   "source": [
    "car = {\"TATA\",\"KIA\",\"MG\",\"MARUTI\"}\n",
    "# car.add( \"JAGUAR\" )\n",
    "# car.remove( \"KIA\" )\n",
    "# car.pop()\n",
    "# car.clear()\n",
    "print(car)"
   ]
  }
 ],
 "metadata": {
  "kernelspec": {
   "display_name": "base",
   "language": "python",
   "name": "python3"
  },
  "language_info": {
   "codemirror_mode": {
    "name": "ipython",
    "version": 3
   },
   "file_extension": ".py",
   "mimetype": "text/x-python",
   "name": "python",
   "nbconvert_exporter": "python",
   "pygments_lexer": "ipython3",
   "version": "3.11.7"
  }
 },
 "nbformat": 4,
 "nbformat_minor": 2
}
